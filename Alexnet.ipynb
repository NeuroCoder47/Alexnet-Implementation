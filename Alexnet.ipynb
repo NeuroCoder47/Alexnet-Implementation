{
 "cells": [
  {
   "cell_type": "code",
   "execution_count": 50,
   "metadata": {},
   "outputs": [
    {
     "name": "stdout",
     "output_type": "stream",
     "text": [
      "Image path: C:\\Users\\ashmi\\Downloads\\pizza_steak_sushi_20_percent\n",
      "There are 2 directories and 0 images in 'C:\\Users\\ashmi\\Downloads\\pizza_steak_sushi_20_percent'.\n",
      "There are 3 directories and 0 images in 'C:\\Users\\ashmi\\Downloads\\pizza_steak_sushi_20_percent\\test'.\n",
      "There are 0 directories and 46 images in 'C:\\Users\\ashmi\\Downloads\\pizza_steak_sushi_20_percent\\test\\pizza'.\n",
      "There are 0 directories and 58 images in 'C:\\Users\\ashmi\\Downloads\\pizza_steak_sushi_20_percent\\test\\steak'.\n",
      "There are 0 directories and 46 images in 'C:\\Users\\ashmi\\Downloads\\pizza_steak_sushi_20_percent\\test\\sushi'.\n",
      "There are 3 directories and 0 images in 'C:\\Users\\ashmi\\Downloads\\pizza_steak_sushi_20_percent\\train'.\n",
      "There are 0 directories and 154 images in 'C:\\Users\\ashmi\\Downloads\\pizza_steak_sushi_20_percent\\train\\pizza'.\n",
      "There are 0 directories and 146 images in 'C:\\Users\\ashmi\\Downloads\\pizza_steak_sushi_20_percent\\train\\steak'.\n",
      "There are 0 directories and 150 images in 'C:\\Users\\ashmi\\Downloads\\pizza_steak_sushi_20_percent\\train\\sushi'.\n",
      "train data - C:\\Users\\ashmi\\Downloads\\pizza_steak_sushi_20_percent\\train   test data - C:\\Users\\ashmi\\Downloads\\pizza_steak_sushi_20_percent\\test\n"
     ]
    }
   ],
   "source": [
    "import os\n",
    "\n",
    "def walk_through_dir(dir_path):\n",
    "    \"\"\"\n",
    "    Walks through dir_path returning its contents.\n",
    "    Args:\n",
    "        dir_path (str or pathlib.Path): target directory\n",
    "\n",
    "    Returns:\n",
    "        A print out of:\n",
    "            number of subdirectories in dir_path\n",
    "            number of images (files) in each subdirectory\n",
    "            name of each subdirectory\n",
    "    \"\"\"\n",
    "    for dirpath, dirnames, filenames in os.walk(dir_path):\n",
    "        print(f\"There are {len(dirnames)} directories and {len(filenames)} images in '{dirpath}'.\")\n",
    "\n",
    "\n",
    "image_path = r\"C:\\Users\\ashmi\\Downloads\\pizza_steak_sushi_20_percent\"\n",
    "\n",
    "\n",
    "print(\"Image path:\", image_path)\n",
    "\n",
    "\n",
    "walk_through_dir(image_path)\n",
    "\n",
    "from pathlib import Path\n",
    "\n",
    "\n",
    "image_path = Path(r\"C:\\Users\\ashmi\\Downloads\\pizza_steak_sushi_20_percent\")\n",
    "\n",
    "train_dir = image_path / \"train\"\n",
    "test_dir = image_path / \"test\"\n",
    "\n",
    "print(\"train data -\", train_dir, \"  test data -\", test_dir)\n"
   ]
  },
  {
   "cell_type": "code",
   "execution_count": 1,
   "metadata": {},
   "outputs": [
    {
     "name": "stderr",
     "output_type": "stream",
     "text": [
      "C:\\Users\\ashmi\\AppData\\Local\\Packages\\PythonSoftwareFoundation.Python.3.9_qbz5n2kfra8p0\\LocalCache\\local-packages\\Python39\\site-packages\\tqdm\\auto.py:21: TqdmWarning: IProgress not found. Please update jupyter and ipywidgets. See https://ipywidgets.readthedocs.io/en/stable/user_install.html\n",
      "  from .autonotebook import tqdm as notebook_tqdm\n"
     ]
    }
   ],
   "source": [
    "import torch\n",
    "import torch.nn as nn\n",
    "from torchvision import transforms\n",
    "from torchvision import transforms\n",
    "\n",
    "train_transforms = transforms.Compose([\n",
    "    transforms.RandomResizedCrop(64),\n",
    "    transforms.RandomHorizontalFlip(),\n",
    "    transforms.ToTensor(),\n",
    "    transforms.Normalize(mean=[0.485, 0.456, 0.406], std=[0.229, 0.224, 0.225]),\n",
    "])\n",
    "\n",
    "test_transforms = transforms.Compose([\n",
    "    transforms.Resize(64),\n",
    "    transforms.CenterCrop(64),\n",
    "    transforms.ToTensor(),\n",
    "    transforms.Normalize(mean=[0.485, 0.456, 0.406], std=[0.229, 0.224, 0.225]),\n",
    "])\n",
    "\n",
    "\n",
    "device = torch.device('cuda' if torch.cuda.is_available() else 'cpu')"
   ]
  },
  {
   "cell_type": "code",
   "execution_count": 52,
   "metadata": {},
   "outputs": [
    {
     "data": {
      "text/plain": [
       "16"
      ]
     },
     "execution_count": 52,
     "metadata": {},
     "output_type": "execute_result"
    }
   ],
   "source": [
    "import torch\n",
    "from torchvision import datasets, transforms\n",
    "from torch.utils.data import DataLoader\n",
    "import os\n",
    "\n",
    "\n",
    "device = torch.device('cuda' if torch.cuda.is_available() else 'cpu')\n",
    "\n",
    "train_data_simple = datasets.ImageFolder(root=train_dir, transform=train_transforms)\n",
    "test_data_simple = datasets.ImageFolder(root=test_dir, transform=test_transforms)\n",
    "\n",
    "\n",
    "BATCH_SIZE = 32\n",
    "NUM_WORKERS = 16\n",
    "\n",
    "train_dataloader_simple = DataLoader(dataset=train_data_simple, batch_size=BATCH_SIZE, shuffle=True, num_workers=NUM_WORKERS)\n",
    "test_dataloader_simple = DataLoader(dataset=test_data_simple, batch_size=BATCH_SIZE, shuffle=True, num_workers=NUM_WORKERS)\n",
    "\n",
    "NUM_WORKERS\n"
   ]
  },
  {
   "cell_type": "code",
   "execution_count": 53,
   "metadata": {},
   "outputs": [],
   "source": [
    "import torch\n",
    "import torch.nn as nn\n",
    "device = torch.device('cuda' if torch.cuda.is_available() else 'cpu')\n",
    "\n",
    "class AlexNet(nn.Module):\n",
    "    \"\"\"\n",
    "    Accurate implementation of the AlexNet architecture\n",
    "    \"\"\"\n",
    "    def __init__(self, input_shape: int, output_shape: int) -> None:\n",
    "        super().__init__()\n",
    "        self.conv_block_1 = nn.Sequential(\n",
    "            nn.Conv2d(in_channels=input_shape, \n",
    "                      out_channels=96, \n",
    "                      kernel_size=11, \n",
    "                      stride=4, \n",
    "                      padding=2),\n",
    "            nn.ReLU(inplace=True),\n",
    "            nn.MaxPool2d(kernel_size=3, stride=2)\n",
    "        )\n",
    "        self.conv_block_2 = nn.Sequential(\n",
    "            nn.Conv2d(in_channels=96, \n",
    "                      out_channels=256, \n",
    "                      kernel_size=5, \n",
    "                      stride=1, \n",
    "                      padding=2),\n",
    "            nn.ReLU(inplace=True),\n",
    "            nn.MaxPool2d(kernel_size=3, stride=2)  # Corrected kernel size\n",
    "        )\n",
    "        self.conv_block_3 = nn.Sequential(\n",
    "            nn.Conv2d(in_channels=256, \n",
    "                      out_channels=384, \n",
    "                      kernel_size=3, \n",
    "                      stride=1, \n",
    "                      padding=1),\n",
    "            nn.ReLU(inplace=True)\n",
    "        )\n",
    "        self.conv_block_4 = nn.Sequential(\n",
    "            nn.Conv2d(in_channels=384, \n",
    "                      out_channels=384, \n",
    "                      kernel_size=3, \n",
    "                      stride=1, \n",
    "                      padding=1),\n",
    "            nn.ReLU(inplace=True)\n",
    "        )\n",
    "        self.conv_block_5 = nn.Sequential(\n",
    "            nn.Conv2d(in_channels=384, \n",
    "                      out_channels=256, \n",
    "                      kernel_size=3, \n",
    "                      stride=1, \n",
    "                      padding=1),\n",
    "            nn.ReLU(inplace=True),\n",
    "            nn.MaxPool2d(kernel_size=3, stride=2)\n",
    "        )\n",
    "        self.avgpool = nn.AdaptiveAvgPool2d((6, 6))\n",
    "        self.classifier = nn.Sequential(\n",
    "            nn.Dropout(),\n",
    "            nn.Linear(256 * 6 * 6, 4096),\n",
    "            nn.ReLU(inplace=True),\n",
    "            nn.Dropout(),\n",
    "            nn.Linear(4096, 4096),\n",
    "            nn.ReLU(inplace=True),\n",
    "            nn.Linear(4096, output_shape),\n",
    "        )\n",
    "\n",
    "    def forward(self, x: torch.Tensor):\n",
    "        x = self.conv_block_1(x)\n",
    "        x = self.conv_block_2(x)\n",
    "        x = self.conv_block_3(x)\n",
    "        x = self.conv_block_4(x)\n",
    "        x = self.conv_block_5(x)\n",
    "        x = self.avgpool(x)\n",
    "        x = torch.flatten(x, 1)\n",
    "        x = self.classifier(x)\n",
    "        return x\n",
    "\n",
    "torch.manual_seed(42)\n",
    "device = torch.device('cuda' if torch.cuda.is_available() else 'cpu')\n",
    "\n",
    "model_001 = AlexNet(input_shape=3, output_shape=len(train_data_simple.classes)).to(device)"
   ]
  },
  {
   "cell_type": "code",
   "execution_count": 54,
   "metadata": {},
   "outputs": [],
   "source": [
    "def accuracy_fn(y_true, y_pred):\n",
    "    _, predicted = torch.max(y_pred, 1)\n",
    "    correct = (predicted == y_true).sum().item()\n",
    "    accuracy = correct / y_true.shape[0]\n",
    "    return accuracy\n",
    "\n",
    "\n",
    "loss_fn = nn.CrossEntropyLoss()  \n",
    "optimizer = torch.optim.SGD(params=model_001.parameters(), lr=0.00001)"
   ]
  },
  {
   "cell_type": "code",
   "execution_count": 55,
   "metadata": {},
   "outputs": [],
   "source": [
    "from timeit import default_timer as timer \n",
    "def print_train_time(start: float, end: float, device: torch.device = None):\n",
    "    \"\"\"Prints difference between start and end time.\n",
    "\n",
    "    Args:\n",
    "        start (float): Start time of computation (preferred in timeit format). \n",
    "        end (float): End time of computation.\n",
    "        device ([type], optional): Device that compute is running on. Defaults to None.\n",
    "\n",
    "    Returns:\n",
    "        float: time between start and end in seconds (higher is longer).\n",
    "    \"\"\"\n",
    "    total_time = end - start\n",
    "    print(f\"Train time on {device}: {total_time:.3f} seconds\")\n",
    "    return total_time"
   ]
  },
  {
   "cell_type": "code",
   "execution_count": 56,
   "metadata": {},
   "outputs": [
    {
     "name": "stderr",
     "output_type": "stream",
     "text": [
      "  0%|          | 0/10 [00:00<?, ?it/s]"
     ]
    },
    {
     "name": "stdout",
     "output_type": "stream",
     "text": [
      "Epoch: 0\n",
      "-------\n",
      "Looked at 0/450 samples\n"
     ]
    },
    {
     "name": "stderr",
     "output_type": "stream",
     "text": [
      " 10%|█         | 1/10 [00:23<03:29, 23.29s/it]"
     ]
    },
    {
     "name": "stdout",
     "output_type": "stream",
     "text": [
      "\n",
      "Train loss: 1.09823 | Test loss: 1.09764, Test acc: 30.74%\n",
      "\n",
      "Epoch: 1\n",
      "-------\n",
      "Looked at 0/450 samples\n"
     ]
    },
    {
     "name": "stderr",
     "output_type": "stream",
     "text": [
      " 20%|██        | 2/10 [00:47<03:09, 23.73s/it]"
     ]
    },
    {
     "name": "stdout",
     "output_type": "stream",
     "text": [
      "\n",
      "Train loss: 1.09891 | Test loss: 1.09762, Test acc: 31.31%\n",
      "\n",
      "Epoch: 2\n",
      "-------\n",
      "Looked at 0/450 samples\n"
     ]
    },
    {
     "name": "stderr",
     "output_type": "stream",
     "text": [
      " 30%|███       | 3/10 [01:10<02:44, 23.53s/it]"
     ]
    },
    {
     "name": "stdout",
     "output_type": "stream",
     "text": [
      "\n",
      "Train loss: 1.09912 | Test loss: 1.09758, Test acc: 31.59%\n",
      "\n",
      "Epoch: 3\n",
      "-------\n",
      "Looked at 0/450 samples\n"
     ]
    },
    {
     "name": "stderr",
     "output_type": "stream",
     "text": [
      " 40%|████      | 4/10 [01:33<02:20, 23.43s/it]"
     ]
    },
    {
     "name": "stdout",
     "output_type": "stream",
     "text": [
      "\n",
      "Train loss: 1.09923 | Test loss: 1.09789, Test acc: 30.17%\n",
      "\n",
      "Epoch: 4\n",
      "-------\n",
      "Looked at 0/450 samples\n"
     ]
    },
    {
     "name": "stderr",
     "output_type": "stream",
     "text": [
      " 50%|█████     | 5/10 [01:59<02:01, 24.33s/it]"
     ]
    },
    {
     "name": "stdout",
     "output_type": "stream",
     "text": [
      "\n",
      "Train loss: 1.09852 | Test loss: 1.09774, Test acc: 31.02%\n",
      "\n",
      "Epoch: 5\n",
      "-------\n",
      "Looked at 0/450 samples\n"
     ]
    },
    {
     "name": "stderr",
     "output_type": "stream",
     "text": [
      " 60%|██████    | 6/10 [02:23<01:35, 23.96s/it]"
     ]
    },
    {
     "name": "stdout",
     "output_type": "stream",
     "text": [
      "\n",
      "Train loss: 1.09859 | Test loss: 1.09763, Test acc: 30.74%\n",
      "\n",
      "Epoch: 6\n",
      "-------\n",
      "Looked at 0/450 samples\n"
     ]
    },
    {
     "name": "stderr",
     "output_type": "stream",
     "text": [
      " 70%|███████   | 7/10 [02:46<01:10, 23.63s/it]"
     ]
    },
    {
     "name": "stdout",
     "output_type": "stream",
     "text": [
      "\n",
      "Train loss: 1.09922 | Test loss: 1.09777, Test acc: 31.31%\n",
      "\n",
      "Epoch: 7\n",
      "-------\n",
      "Looked at 0/450 samples\n"
     ]
    },
    {
     "name": "stderr",
     "output_type": "stream",
     "text": [
      " 80%|████████  | 8/10 [03:09<00:46, 23.43s/it]"
     ]
    },
    {
     "name": "stdout",
     "output_type": "stream",
     "text": [
      "\n",
      "Train loss: 1.09994 | Test loss: 1.09755, Test acc: 31.31%\n",
      "\n",
      "Epoch: 8\n",
      "-------\n",
      "Looked at 0/450 samples\n"
     ]
    },
    {
     "name": "stderr",
     "output_type": "stream",
     "text": [
      " 90%|█████████ | 9/10 [03:32<00:23, 23.38s/it]"
     ]
    },
    {
     "name": "stdout",
     "output_type": "stream",
     "text": [
      "\n",
      "Train loss: 1.09903 | Test loss: 1.09776, Test acc: 30.45%\n",
      "\n",
      "Epoch: 9\n",
      "-------\n",
      "Looked at 0/450 samples\n"
     ]
    },
    {
     "name": "stderr",
     "output_type": "stream",
     "text": [
      "100%|██████████| 10/10 [03:56<00:00, 23.65s/it]"
     ]
    },
    {
     "name": "stdout",
     "output_type": "stream",
     "text": [
      "\n",
      "Train loss: 1.09903 | Test loss: 1.09750, Test acc: 31.02%\n",
      "\n",
      "Train time on cuda:0: 236.542 seconds\n"
     ]
    },
    {
     "name": "stderr",
     "output_type": "stream",
     "text": [
      "\n"
     ]
    }
   ],
   "source": [
    "import torch\n",
    "from tqdm.auto import tqdm\n",
    "from timeit import default_timer as timer\n",
    "\n",
    "\n",
    "device = torch.device(\"cuda\" if torch.cuda.is_available() else \"cpu\")\n",
    "model_001.to(device)\n",
    "\n",
    "\n",
    "torch.manual_seed(42)\n",
    "train_time_start_on_cpu = timer()\n",
    "\n",
    "epochs = 10\n",
    "\n",
    "\n",
    "for epoch in tqdm(range(epochs)):\n",
    "    print(f\"Epoch: {epoch}\\n-------\")\n",
    "\n",
    "    train_loss = 0\n",
    "\n",
    "    for batch, (X, y) in enumerate(train_dataloader_simple):\n",
    "        model_001.train() \n",
    "   \n",
    "        X, y = X.to(device), y.to(device)\n",
    "        \n",
    "       \n",
    "        y_pred = model_001(X)\n",
    "\n",
    "        \n",
    "        loss = loss_fn(y_pred, y)\n",
    "        train_loss += loss.item()\n",
    "\n",
    "      \n",
    "        optimizer.zero_grad()\n",
    "\n",
    "        \n",
    "        loss.backward()\n",
    "\n",
    "        optimizer.step()\n",
    "\n",
    "        \n",
    "        if batch % 400 == 0:\n",
    "            print(f\"Looked at {batch * len(X)}/{len(train_dataloader_simple.dataset)} samples\")\n",
    "\n",
    "\n",
    "    train_loss /= len(train_dataloader_simple)\n",
    "    \n",
    "\n",
    "    test_loss, test_acc = 0, 0 \n",
    "    model_001.eval()\n",
    "    with torch.inference_mode():\n",
    "        for X, y in test_dataloader_simple:\n",
    "       \n",
    "            X, y = X.to(device), y.to(device)\n",
    "            \n",
    "      \n",
    "            test_pred = model_001(X)\n",
    "      \n",
    "            test_loss += loss_fn(test_pred, y).item() \n",
    "       \n",
    "            test_acc += accuracy_fn(y_true=y, y_pred=test_pred.argmax(dim=1).unsqueeze(-1))\n",
    "        \n",
    "        \n",
    "        test_loss /= len(test_dataloader_simple)\n",
    "\n",
    "   \n",
    "        test_acc /= len(test_dataloader_simple)\n",
    "\n",
    "\n",
    "    print(f\"\\nTrain loss: {train_loss:.5f} | Test loss: {test_loss:.5f}, Test acc: {test_acc * 100:.2f}%\\n\")\n",
    "\n",
    "   \n",
    "train_time_end_on_cpu = timer()\n",
    "total_train_time_model_0 = print_train_time(start=train_time_start_on_cpu, \n",
    "                                           end=train_time_end_on_cpu,\n",
    "                                           device=str(next(model_001.parameters()).device))\n"
   ]
  },
  {
   "cell_type": "code",
   "execution_count": null,
   "metadata": {},
   "outputs": [],
   "source": []
  },
  {
   "cell_type": "code",
   "execution_count": 57,
   "metadata": {},
   "outputs": [],
   "source": [
    "torch.save(model_001.state_dict(), \"model_011.pth\")"
   ]
  }
 ],
 "metadata": {
  "kernelspec": {
   "display_name": "Python 3",
   "language": "python",
   "name": "python3"
  },
  "language_info": {
   "codemirror_mode": {
    "name": "ipython",
    "version": 3
   },
   "file_extension": ".py",
   "mimetype": "text/x-python",
   "name": "python",
   "nbconvert_exporter": "python",
   "pygments_lexer": "ipython3",
   "version": "3.9.13"
  }
 },
 "nbformat": 4,
 "nbformat_minor": 2
}
